{
  "cells": [
    {
      "cell_type": "markdown",
      "metadata": {
        "id": "6a7d5404"
      },
      "source": [
        "<font color='blue'>\n",
        "    <font size = 5>\n",
        "        You have been given the role of a business analyst for an E-Commerce company and have been asked to prepare a basic report on the data. Follow the steps below for preparation of the report. \n",
        "\n",
        "Before you start analysing the data, it is always a good practice to see the size of the data, its features and feature types. If the data set is big, it is not possible to print out all the records. \n",
        "    </font>\n",
        "####  Note: Use the markdown feature of Python to explain your answer.\n",
        "    "
      ],
      "id": "6a7d5404"
    },
    {
      "cell_type": "markdown",
      "metadata": {
        "id": "daf5d935"
      },
      "source": [
        "## Load the necessary libraries. Import and load the dataset with a name ECom_Data ."
      ],
      "id": "daf5d935"
    },
    {
      "cell_type": "code",
      "execution_count": null,
      "metadata": {
        "id": "46db7569"
      },
      "outputs": [],
      "source": [
        "import numpy as np\n",
        "import pandas as pd\n",
        "import matplotlib.pyplot as plt\n",
        "import seaborn as sns\n",
        "pd.options.display.max_rows = 10"
      ],
      "id": "46db7569"
    },
    {
      "cell_type": "code",
      "execution_count": null,
      "metadata": {
        "id": "4ef73773"
      },
      "outputs": [],
      "source": [
        "# Get the Data\n",
        "\n",
        "ECom_Data=pd.read_csv(\"/content/E-Commerce_Flipkart.csv\")\n"
      ],
      "id": "4ef73773"
    },
    {
      "cell_type": "markdown",
      "metadata": {
        "id": "2cf5f20f"
      },
      "source": [
        "<font color='blue'>\n",
        "    <font size = 5>\n",
        "        We have read the data and stored the data in \"ECom_Data\" variable </font>"
      ],
      "id": "2cf5f20f"
    },
    {
      "cell_type": "markdown",
      "metadata": {
        "id": "a0a4f84a"
      },
      "source": [
        "## Q 1.\tTo get familiar with the data\n",
        "## a)\tPrint out the first 10 and the last 10 records of the data. (2 marks)\n",
        "## b)\tHow many rows and columns are present in the dataset? Use any two different methods to extract this information. (2 + 2 + 1 marks)\n",
        "## c)\tHow many object data types are there? (1 mark)\n",
        "## d)\tIs there any Boolean data type? (1 mark) \n",
        "#### Note: Use the markdown feature of Python to explain your answer.\n"
      ],
      "id": "a0a4f84a"
    },
    {
      "cell_type": "code",
      "execution_count": null,
      "metadata": {
        "colab": {
          "base_uri": "https://localhost:8080/",
          "height": 1000
        },
        "id": "55ad77c3",
        "outputId": "91c68a3b-c976-4d0d-81aa-155ba37b8e47"
      },
      "outputs": [
        {
          "output_type": "execute_result",
          "data": {
            "text/plain": [
              "                      Customer_uniq_id Region  Order_Date  \\\n",
              "8917  4db03bc4ccbe216cf151b2f2b904ba3f  East   01-12-2020   \n",
              "8918  4d4d6aeb13fa253499d0dd45a5abd87e   West  01-12-2020   \n",
              "8919  ea19e7ef703293d3f6c799ca9db4642d   West  01-12-2020   \n",
              "8920  19a53a958992fb575acffb5d41e7ef9e  East   01-12-2020   \n",
              "8921  09abab80c8dfdc6f268e0a6f05a0be11  North  01-12-2020   \n",
              "8922  90d30478255e23621e8929ed15c2f6e4  South  01-12-2020   \n",
              "8923  20a73e3f41490a73ceeba5f17658db8f   West  01-12-2020   \n",
              "8924  5c1554cd45f9d538c2c6947dbdd59c75  East   01-12-2020   \n",
              "8925  6b737a4deca1ed0e56c179e66036e994   West  01-12-2020   \n",
              "8926  a5235ac28d3d5487f54025f9d6b57433  North  01-12-2020   \n",
              "\n",
              "     Expected_Delivery_Date Delivered_Date  \\\n",
              "8917             04-12-2020     04-12-2020   \n",
              "8918             04-12-2020     04-12-2020   \n",
              "8919             04-12-2020     04-12-2020   \n",
              "8920             04-12-2020     04-12-2020   \n",
              "8921             04-12-2020     04-12-2020   \n",
              "8922             04-12-2020     04-12-2020   \n",
              "8923             04-12-2020     04-12-2020   \n",
              "8924             04-12-2020     04-12-2020   \n",
              "8925             04-12-2020     04-12-2020   \n",
              "8926             04-12-2020     04-12-2020   \n",
              "\n",
              "                                           product_name product_main_category  \\\n",
              "8917                           Luca Fashion Girls Heels             Footwear    \n",
              "8918                            Shoetopia Girls Sandals             Footwear    \n",
              "8919                        SMART TRADERS Girls Sandals             Footwear    \n",
              "8920                                  Beanz Girls Flats             Footwear    \n",
              "8921                       Nova KT 728S Electric Kettle       Home & Kitchen    \n",
              "8922  Sinina Chanderi Embroidered Salwar Suit Dupatt...             Clothing    \n",
              "8923  Aarushi Fashion Chanderi Embroidered Salwar Su...             Clothing    \n",
              "8924  Ambika Lahenga Embroidered Lehenga, Choli and ...             Clothing    \n",
              "8925  Sinina Chanderi Embroidered Salwar Suit Dupatt...             Clothing    \n",
              "8926  Aarushi Fashion Silk Striped Salwar Suit Dupat...             Clothing    \n",
              "\n",
              "            product_subcategory                product_category_filter  \\\n",
              "8917   Kids' & Infant Footwear                              For Girls    \n",
              "8918   Kids' & Infant Footwear                              For Girls    \n",
              "8919   Kids' & Infant Footwear                              For Girls    \n",
              "8920   Kids' & Infant Footwear                              For Girls    \n",
              "8921        Kitchen Appliances    Electric Jug(heater)/Travel Kettles    \n",
              "8922          Women's Clothing                            Ethnic Wear    \n",
              "8923          Women's Clothing                            Ethnic Wear    \n",
              "8924          Women's Clothing                            Ethnic Wear    \n",
              "8925          Women's Clothing                            Ethnic Wear    \n",
              "8926          Women's Clothing                            Ethnic Wear    \n",
              "\n",
              "                      product_category_subfilter product_unique ID  \\\n",
              "8917                                    Sandals   SNDEHG3DNVBFGAT5   \n",
              "8918                                    Sandals   SNDEG7DRWSX8HFXZ   \n",
              "8919                                    Sandals   SNDEG7MZHHKZ58D2   \n",
              "8920                                    Sandals   SNDEG7DYVFWHZBC4   \n",
              "8921   Nova Electric Jug(heater)/Travel Kettles   EKTDG5C5QSADZZ8J   \n",
              "8922                                     Fabric   FABEGGHHDFMY8BZU   \n",
              "8923                                     Fabric   FABEG8GFDUWRSNU3   \n",
              "8924                             Lehenga Cholis   LEHEGGEHYN4G2RPW   \n",
              "8925                                     Fabric   FABEGGHHGSVCHGFV   \n",
              "8926                                     Fabric   FABEG8GYDAABECZH   \n",
              "\n",
              "      retail_price  discounted_price  product_rating            Brand  \\\n",
              "8917           999               499             4.0     Luca Fashion   \n",
              "8918           499               399             4.0        Shoetopia   \n",
              "8919           999               499             5.0    SMART TRADERS   \n",
              "8920          1299              1299             3.0            Beanz   \n",
              "8921          3195               699             3.6             Nova   \n",
              "8922          2980              1490             3.0           Sinina   \n",
              "8923          2600              1300             1.0  Aarushi Fashion   \n",
              "8924         39992             24995             1.0   Ambika Lahenga   \n",
              "8925          2000              1000             3.0           Sinina   \n",
              "8926          2800              1350             4.0  Aarushi Fashion   \n",
              "\n",
              "                                 product_specifications  \\\n",
              "8917  {\"product_specification\"=>[{\"key\"=>\"Occasion\",...   \n",
              "8918  {\"product_specification\"=>[{\"key\"=>\"Ideal For\"...   \n",
              "8919  {\"product_specification\"=>[{\"key\"=>\"Ideal For\"...   \n",
              "8920  {\"product_specification\"=>[{\"key\"=>\"Occasion\",...   \n",
              "8921  {\"product_specification\"=>[{\"key\"=>\"Brand\", \"v...   \n",
              "8922  {\"product_specification\"=>[{\"key\"=>\"Fabric\", \"...   \n",
              "8923  {\"product_specification\"=>[{\"key\"=>\"Fabric\", \"...   \n",
              "8924  {\"product_specification\"=>[{\"key\"=>\"Fabric\", \"...   \n",
              "8925  {\"product_specification\"=>[{\"key\"=>\"Fabric\", \"...   \n",
              "8926  {\"product_specification\"=>[{\"key\"=>\"Fabric\", \"...   \n",
              "\n",
              "                                            description  \n",
              "8917  Key Features of Luca Fashion Girls Heels Occas...  \n",
              "8918  Key Features of Shoetopia Girls Sandals Flats ...  \n",
              "8919  Key Features of SMART TRADERS Girls Sandals Oc...  \n",
              "8920  Key Features of Beanz Girls Flats Occasion: Ca...  \n",
              "8921  Specifications of Nova KT 728S Electric Kettle...  \n",
              "8922  Key Features of Sinina Chanderi Embroidered Sa...  \n",
              "8923  Key Features of Aarushi Fashion Chanderi Embro...  \n",
              "8924  Key Features of Ambika Lahenga Embroidered Leh...  \n",
              "8925  Key Features of Sinina Chanderi Embroidered Sa...  \n",
              "8926  Key Features of Aarushi Fashion Silk Striped S...  "
            ],
            "text/html": [
              "\n",
              "  <div id=\"df-d7976ac7-3172-4439-912c-577828bd1c73\">\n",
              "    <div class=\"colab-df-container\">\n",
              "      <div>\n",
              "<style scoped>\n",
              "    .dataframe tbody tr th:only-of-type {\n",
              "        vertical-align: middle;\n",
              "    }\n",
              "\n",
              "    .dataframe tbody tr th {\n",
              "        vertical-align: top;\n",
              "    }\n",
              "\n",
              "    .dataframe thead th {\n",
              "        text-align: right;\n",
              "    }\n",
              "</style>\n",
              "<table border=\"1\" class=\"dataframe\">\n",
              "  <thead>\n",
              "    <tr style=\"text-align: right;\">\n",
              "      <th></th>\n",
              "      <th>Customer_uniq_id</th>\n",
              "      <th>Region</th>\n",
              "      <th>Order_Date</th>\n",
              "      <th>Expected_Delivery_Date</th>\n",
              "      <th>Delivered_Date</th>\n",
              "      <th>product_name</th>\n",
              "      <th>product_main_category</th>\n",
              "      <th>product_subcategory</th>\n",
              "      <th>product_category_filter</th>\n",
              "      <th>product_category_subfilter</th>\n",
              "      <th>product_unique ID</th>\n",
              "      <th>retail_price</th>\n",
              "      <th>discounted_price</th>\n",
              "      <th>product_rating</th>\n",
              "      <th>Brand</th>\n",
              "      <th>product_specifications</th>\n",
              "      <th>description</th>\n",
              "    </tr>\n",
              "  </thead>\n",
              "  <tbody>\n",
              "    <tr>\n",
              "      <th>8917</th>\n",
              "      <td>4db03bc4ccbe216cf151b2f2b904ba3f</td>\n",
              "      <td>East</td>\n",
              "      <td>01-12-2020</td>\n",
              "      <td>04-12-2020</td>\n",
              "      <td>04-12-2020</td>\n",
              "      <td>Luca Fashion Girls Heels</td>\n",
              "      <td>Footwear</td>\n",
              "      <td>Kids' &amp; Infant Footwear</td>\n",
              "      <td>For Girls</td>\n",
              "      <td>Sandals</td>\n",
              "      <td>SNDEHG3DNVBFGAT5</td>\n",
              "      <td>999</td>\n",
              "      <td>499</td>\n",
              "      <td>4.0</td>\n",
              "      <td>Luca Fashion</td>\n",
              "      <td>{\"product_specification\"=&gt;[{\"key\"=&gt;\"Occasion\",...</td>\n",
              "      <td>Key Features of Luca Fashion Girls Heels Occas...</td>\n",
              "    </tr>\n",
              "    <tr>\n",
              "      <th>8918</th>\n",
              "      <td>4d4d6aeb13fa253499d0dd45a5abd87e</td>\n",
              "      <td>West</td>\n",
              "      <td>01-12-2020</td>\n",
              "      <td>04-12-2020</td>\n",
              "      <td>04-12-2020</td>\n",
              "      <td>Shoetopia Girls Sandals</td>\n",
              "      <td>Footwear</td>\n",
              "      <td>Kids' &amp; Infant Footwear</td>\n",
              "      <td>For Girls</td>\n",
              "      <td>Sandals</td>\n",
              "      <td>SNDEG7DRWSX8HFXZ</td>\n",
              "      <td>499</td>\n",
              "      <td>399</td>\n",
              "      <td>4.0</td>\n",
              "      <td>Shoetopia</td>\n",
              "      <td>{\"product_specification\"=&gt;[{\"key\"=&gt;\"Ideal For\"...</td>\n",
              "      <td>Key Features of Shoetopia Girls Sandals Flats ...</td>\n",
              "    </tr>\n",
              "    <tr>\n",
              "      <th>8919</th>\n",
              "      <td>ea19e7ef703293d3f6c799ca9db4642d</td>\n",
              "      <td>West</td>\n",
              "      <td>01-12-2020</td>\n",
              "      <td>04-12-2020</td>\n",
              "      <td>04-12-2020</td>\n",
              "      <td>SMART TRADERS Girls Sandals</td>\n",
              "      <td>Footwear</td>\n",
              "      <td>Kids' &amp; Infant Footwear</td>\n",
              "      <td>For Girls</td>\n",
              "      <td>Sandals</td>\n",
              "      <td>SNDEG7MZHHKZ58D2</td>\n",
              "      <td>999</td>\n",
              "      <td>499</td>\n",
              "      <td>5.0</td>\n",
              "      <td>SMART TRADERS</td>\n",
              "      <td>{\"product_specification\"=&gt;[{\"key\"=&gt;\"Ideal For\"...</td>\n",
              "      <td>Key Features of SMART TRADERS Girls Sandals Oc...</td>\n",
              "    </tr>\n",
              "    <tr>\n",
              "      <th>8920</th>\n",
              "      <td>19a53a958992fb575acffb5d41e7ef9e</td>\n",
              "      <td>East</td>\n",
              "      <td>01-12-2020</td>\n",
              "      <td>04-12-2020</td>\n",
              "      <td>04-12-2020</td>\n",
              "      <td>Beanz Girls Flats</td>\n",
              "      <td>Footwear</td>\n",
              "      <td>Kids' &amp; Infant Footwear</td>\n",
              "      <td>For Girls</td>\n",
              "      <td>Sandals</td>\n",
              "      <td>SNDEG7DYVFWHZBC4</td>\n",
              "      <td>1299</td>\n",
              "      <td>1299</td>\n",
              "      <td>3.0</td>\n",
              "      <td>Beanz</td>\n",
              "      <td>{\"product_specification\"=&gt;[{\"key\"=&gt;\"Occasion\",...</td>\n",
              "      <td>Key Features of Beanz Girls Flats Occasion: Ca...</td>\n",
              "    </tr>\n",
              "    <tr>\n",
              "      <th>8921</th>\n",
              "      <td>09abab80c8dfdc6f268e0a6f05a0be11</td>\n",
              "      <td>North</td>\n",
              "      <td>01-12-2020</td>\n",
              "      <td>04-12-2020</td>\n",
              "      <td>04-12-2020</td>\n",
              "      <td>Nova KT 728S Electric Kettle</td>\n",
              "      <td>Home &amp; Kitchen</td>\n",
              "      <td>Kitchen Appliances</td>\n",
              "      <td>Electric Jug(heater)/Travel Kettles</td>\n",
              "      <td>Nova Electric Jug(heater)/Travel Kettles</td>\n",
              "      <td>EKTDG5C5QSADZZ8J</td>\n",
              "      <td>3195</td>\n",
              "      <td>699</td>\n",
              "      <td>3.6</td>\n",
              "      <td>Nova</td>\n",
              "      <td>{\"product_specification\"=&gt;[{\"key\"=&gt;\"Brand\", \"v...</td>\n",
              "      <td>Specifications of Nova KT 728S Electric Kettle...</td>\n",
              "    </tr>\n",
              "    <tr>\n",
              "      <th>8922</th>\n",
              "      <td>90d30478255e23621e8929ed15c2f6e4</td>\n",
              "      <td>South</td>\n",
              "      <td>01-12-2020</td>\n",
              "      <td>04-12-2020</td>\n",
              "      <td>04-12-2020</td>\n",
              "      <td>Sinina Chanderi Embroidered Salwar Suit Dupatt...</td>\n",
              "      <td>Clothing</td>\n",
              "      <td>Women's Clothing</td>\n",
              "      <td>Ethnic Wear</td>\n",
              "      <td>Fabric</td>\n",
              "      <td>FABEGGHHDFMY8BZU</td>\n",
              "      <td>2980</td>\n",
              "      <td>1490</td>\n",
              "      <td>3.0</td>\n",
              "      <td>Sinina</td>\n",
              "      <td>{\"product_specification\"=&gt;[{\"key\"=&gt;\"Fabric\", \"...</td>\n",
              "      <td>Key Features of Sinina Chanderi Embroidered Sa...</td>\n",
              "    </tr>\n",
              "    <tr>\n",
              "      <th>8923</th>\n",
              "      <td>20a73e3f41490a73ceeba5f17658db8f</td>\n",
              "      <td>West</td>\n",
              "      <td>01-12-2020</td>\n",
              "      <td>04-12-2020</td>\n",
              "      <td>04-12-2020</td>\n",
              "      <td>Aarushi Fashion Chanderi Embroidered Salwar Su...</td>\n",
              "      <td>Clothing</td>\n",
              "      <td>Women's Clothing</td>\n",
              "      <td>Ethnic Wear</td>\n",
              "      <td>Fabric</td>\n",
              "      <td>FABEG8GFDUWRSNU3</td>\n",
              "      <td>2600</td>\n",
              "      <td>1300</td>\n",
              "      <td>1.0</td>\n",
              "      <td>Aarushi Fashion</td>\n",
              "      <td>{\"product_specification\"=&gt;[{\"key\"=&gt;\"Fabric\", \"...</td>\n",
              "      <td>Key Features of Aarushi Fashion Chanderi Embro...</td>\n",
              "    </tr>\n",
              "    <tr>\n",
              "      <th>8924</th>\n",
              "      <td>5c1554cd45f9d538c2c6947dbdd59c75</td>\n",
              "      <td>East</td>\n",
              "      <td>01-12-2020</td>\n",
              "      <td>04-12-2020</td>\n",
              "      <td>04-12-2020</td>\n",
              "      <td>Ambika Lahenga Embroidered Lehenga, Choli and ...</td>\n",
              "      <td>Clothing</td>\n",
              "      <td>Women's Clothing</td>\n",
              "      <td>Ethnic Wear</td>\n",
              "      <td>Lehenga Cholis</td>\n",
              "      <td>LEHEGGEHYN4G2RPW</td>\n",
              "      <td>39992</td>\n",
              "      <td>24995</td>\n",
              "      <td>1.0</td>\n",
              "      <td>Ambika Lahenga</td>\n",
              "      <td>{\"product_specification\"=&gt;[{\"key\"=&gt;\"Fabric\", \"...</td>\n",
              "      <td>Key Features of Ambika Lahenga Embroidered Leh...</td>\n",
              "    </tr>\n",
              "    <tr>\n",
              "      <th>8925</th>\n",
              "      <td>6b737a4deca1ed0e56c179e66036e994</td>\n",
              "      <td>West</td>\n",
              "      <td>01-12-2020</td>\n",
              "      <td>04-12-2020</td>\n",
              "      <td>04-12-2020</td>\n",
              "      <td>Sinina Chanderi Embroidered Salwar Suit Dupatt...</td>\n",
              "      <td>Clothing</td>\n",
              "      <td>Women's Clothing</td>\n",
              "      <td>Ethnic Wear</td>\n",
              "      <td>Fabric</td>\n",
              "      <td>FABEGGHHGSVCHGFV</td>\n",
              "      <td>2000</td>\n",
              "      <td>1000</td>\n",
              "      <td>3.0</td>\n",
              "      <td>Sinina</td>\n",
              "      <td>{\"product_specification\"=&gt;[{\"key\"=&gt;\"Fabric\", \"...</td>\n",
              "      <td>Key Features of Sinina Chanderi Embroidered Sa...</td>\n",
              "    </tr>\n",
              "    <tr>\n",
              "      <th>8926</th>\n",
              "      <td>a5235ac28d3d5487f54025f9d6b57433</td>\n",
              "      <td>North</td>\n",
              "      <td>01-12-2020</td>\n",
              "      <td>04-12-2020</td>\n",
              "      <td>04-12-2020</td>\n",
              "      <td>Aarushi Fashion Silk Striped Salwar Suit Dupat...</td>\n",
              "      <td>Clothing</td>\n",
              "      <td>Women's Clothing</td>\n",
              "      <td>Ethnic Wear</td>\n",
              "      <td>Fabric</td>\n",
              "      <td>FABEG8GYDAABECZH</td>\n",
              "      <td>2800</td>\n",
              "      <td>1350</td>\n",
              "      <td>4.0</td>\n",
              "      <td>Aarushi Fashion</td>\n",
              "      <td>{\"product_specification\"=&gt;[{\"key\"=&gt;\"Fabric\", \"...</td>\n",
              "      <td>Key Features of Aarushi Fashion Silk Striped S...</td>\n",
              "    </tr>\n",
              "  </tbody>\n",
              "</table>\n",
              "</div>\n",
              "      <button class=\"colab-df-convert\" onclick=\"convertToInteractive('df-d7976ac7-3172-4439-912c-577828bd1c73')\"\n",
              "              title=\"Convert this dataframe to an interactive table.\"\n",
              "              style=\"display:none;\">\n",
              "        \n",
              "  <svg xmlns=\"http://www.w3.org/2000/svg\" height=\"24px\"viewBox=\"0 0 24 24\"\n",
              "       width=\"24px\">\n",
              "    <path d=\"M0 0h24v24H0V0z\" fill=\"none\"/>\n",
              "    <path d=\"M18.56 5.44l.94 2.06.94-2.06 2.06-.94-2.06-.94-.94-2.06-.94 2.06-2.06.94zm-11 1L8.5 8.5l.94-2.06 2.06-.94-2.06-.94L8.5 2.5l-.94 2.06-2.06.94zm10 10l.94 2.06.94-2.06 2.06-.94-2.06-.94-.94-2.06-.94 2.06-2.06.94z\"/><path d=\"M17.41 7.96l-1.37-1.37c-.4-.4-.92-.59-1.43-.59-.52 0-1.04.2-1.43.59L10.3 9.45l-7.72 7.72c-.78.78-.78 2.05 0 2.83L4 21.41c.39.39.9.59 1.41.59.51 0 1.02-.2 1.41-.59l7.78-7.78 2.81-2.81c.8-.78.8-2.07 0-2.86zM5.41 20L4 18.59l7.72-7.72 1.47 1.35L5.41 20z\"/>\n",
              "  </svg>\n",
              "      </button>\n",
              "      \n",
              "  <style>\n",
              "    .colab-df-container {\n",
              "      display:flex;\n",
              "      flex-wrap:wrap;\n",
              "      gap: 12px;\n",
              "    }\n",
              "\n",
              "    .colab-df-convert {\n",
              "      background-color: #E8F0FE;\n",
              "      border: none;\n",
              "      border-radius: 50%;\n",
              "      cursor: pointer;\n",
              "      display: none;\n",
              "      fill: #1967D2;\n",
              "      height: 32px;\n",
              "      padding: 0 0 0 0;\n",
              "      width: 32px;\n",
              "    }\n",
              "\n",
              "    .colab-df-convert:hover {\n",
              "      background-color: #E2EBFA;\n",
              "      box-shadow: 0px 1px 2px rgba(60, 64, 67, 0.3), 0px 1px 3px 1px rgba(60, 64, 67, 0.15);\n",
              "      fill: #174EA6;\n",
              "    }\n",
              "\n",
              "    [theme=dark] .colab-df-convert {\n",
              "      background-color: #3B4455;\n",
              "      fill: #D2E3FC;\n",
              "    }\n",
              "\n",
              "    [theme=dark] .colab-df-convert:hover {\n",
              "      background-color: #434B5C;\n",
              "      box-shadow: 0px 1px 3px 1px rgba(0, 0, 0, 0.15);\n",
              "      filter: drop-shadow(0px 1px 2px rgba(0, 0, 0, 0.3));\n",
              "      fill: #FFFFFF;\n",
              "    }\n",
              "  </style>\n",
              "\n",
              "      <script>\n",
              "        const buttonEl =\n",
              "          document.querySelector('#df-d7976ac7-3172-4439-912c-577828bd1c73 button.colab-df-convert');\n",
              "        buttonEl.style.display =\n",
              "          google.colab.kernel.accessAllowed ? 'block' : 'none';\n",
              "\n",
              "        async function convertToInteractive(key) {\n",
              "          const element = document.querySelector('#df-d7976ac7-3172-4439-912c-577828bd1c73');\n",
              "          const dataTable =\n",
              "            await google.colab.kernel.invokeFunction('convertToInteractive',\n",
              "                                                     [key], {});\n",
              "          if (!dataTable) return;\n",
              "\n",
              "          const docLinkHtml = 'Like what you see? Visit the ' +\n",
              "            '<a target=\"_blank\" href=https://colab.research.google.com/notebooks/data_table.ipynb>data table notebook</a>'\n",
              "            + ' to learn more about interactive tables.';\n",
              "          element.innerHTML = '';\n",
              "          dataTable['output_type'] = 'display_data';\n",
              "          await google.colab.output.renderOutput(dataTable, element);\n",
              "          const docLink = document.createElement('div');\n",
              "          docLink.innerHTML = docLinkHtml;\n",
              "          element.appendChild(docLink);\n",
              "        }\n",
              "      </script>\n",
              "    </div>\n",
              "  </div>\n",
              "  "
            ]
          },
          "metadata": {},
          "execution_count": 5
        }
      ],
      "source": [
        "#First **10 *Records of the data\n",
        "ECom_Data.head(10)\n",
        "\n",
        "#Last **10 *Records of the data\n",
        "ECom_Data.tail(10)"
      ],
      "id": "55ad77c3"
    },
    {
      "cell_type": "markdown",
      "metadata": {
        "id": "0ba43d74"
      },
      "source": [
        "#### Ans 1 a)\n",
        "By default head funtion in python displays First five records of the dataset.But in question it has been asked to display First Ten records ,To get the User interested number of records we can pass that number to the head function to get the user requested results.\n",
        "\n",
        "**head(10)**-displays First 10 records\n",
        "\n",
        "Similarly,there is provision to view records from last By default tail funtion in python displays Last five records of the dataset.But in question it has been asked to display Last Ten records ,To get the User interested number of records we can pass that number to the tail function to get the user requested results.\n",
        "\n",
        "tail(10)-displays Last 10 records"
      ],
      "id": "0ba43d74"
    },
    {
      "cell_type": "code",
      "execution_count": null,
      "metadata": {
        "colab": {
          "base_uri": "https://localhost:8080/"
        },
        "id": "6684f5a1",
        "outputId": "eb822576-60fa-4c3c-8daa-fd59a12a6815"
      },
      "outputs": [
        {
          "name": "stdout",
          "output_type": "stream",
          "text": [
            "The number of rows are :  8927\n",
            "The number of columns are : 17\n"
          ]
        }
      ],
      "source": [
        "#no of Rows and Column- 1st method\n",
        "\n",
        "rows=len(ECom_Data.axes[0])\n",
        "\n",
        "cols=len(ECom_Data.axes[1])\n",
        "\n",
        "print(\"The number of rows are : \" , rows)\n",
        "\n",
        "print(\"The number of columns are :\", cols)"
      ],
      "id": "6684f5a1"
    },
    {
      "cell_type": "markdown",
      "metadata": {
        "id": "48baeda6"
      },
      "source": [
        "#### Ans 1 b)\n",
        "\n",
        "There are many ways to extract information No. of rows and columns in the dataframe.Those are\n",
        "**Ecom_Data.shape**\n",
        "**len(Ecom_Data)**\n",
        "**Ecom_Data.count()**\n",
        "Ecom_Data.size "
      ],
      "id": "48baeda6"
    },
    {
      "cell_type": "code",
      "execution_count": null,
      "metadata": {
        "colab": {
          "base_uri": "https://localhost:8080/"
        },
        "id": "0ac3ef5d",
        "outputId": "6b7801bd-4a98-4616-8514-e19a855022e1"
      },
      "outputs": [
        {
          "output_type": "stream",
          "name": "stdout",
          "text": [
            "The ECom_Data has 8927 rows  and 17 columns\n"
          ]
        }
      ],
      "source": [
        "#no of Rows and Column- 2nd method\n",
        "print(\"The ECom_Data has {} rows  and {} columns\".format(ECom_Data.shape[0],ECom_Data.shape[1]))"
      ],
      "id": "0ac3ef5d"
    },
    {
      "cell_type": "markdown",
      "metadata": {
        "id": "6aaa54a0"
      },
      "source": [
        "#### Ans  1 c)\n",
        "There are ***14 object types*** in the given ECommerce dataframe"
      ],
      "id": "6aaa54a0"
    },
    {
      "cell_type": "code",
      "execution_count": null,
      "metadata": {
        "colab": {
          "base_uri": "https://localhost:8080/"
        },
        "id": "115627b2",
        "outputId": "93a11eb7-3c96-4f55-b679-2f971cd0987b"
      },
      "outputs": [
        {
          "name": "stdout",
          "output_type": "stream",
          "text": [
            "<class 'pandas.core.frame.DataFrame'>\n",
            "RangeIndex: 8927 entries, 0 to 8926\n",
            "Data columns (total 17 columns):\n",
            " #   Column                      Non-Null Count  Dtype  \n",
            "---  ------                      --------------  -----  \n",
            " 0   Customer_uniq_id            8927 non-null   object \n",
            " 1   Region                      8927 non-null   object \n",
            " 2   Order_Date                  8927 non-null   object \n",
            " 3   Expected_Delivery_Date      8927 non-null   object \n",
            " 4   Delivered_Date              8927 non-null   object \n",
            " 5   product_name                8927 non-null   object \n",
            " 6   product_main_category       8927 non-null   object \n",
            " 7   product_subcategory         8927 non-null   object \n",
            " 8   product_category_filter     8927 non-null   object \n",
            " 9   product_category_subfilter  8927 non-null   object \n",
            " 10  product_unique ID           8927 non-null   object \n",
            " 11  retail_price                8927 non-null   int64  \n",
            " 12  discounted_price            8927 non-null   int64  \n",
            " 13  product_rating              8927 non-null   float64\n",
            " 14  Brand                       8927 non-null   object \n",
            " 15  product_specifications      8927 non-null   object \n",
            " 16  description                 8927 non-null   object \n",
            "dtypes: float64(1), int64(2), object(14)\n",
            "memory usage: 1.2+ MB\n"
          ]
        }
      ],
      "source": [
        "ECom_Data.info()"
      ],
      "id": "115627b2"
    },
    {
      "cell_type": "markdown",
      "metadata": {
        "id": "5e63573c"
      },
      "source": [
        "### Ans 1 d)\n",
        "\n",
        "There is no boolean data type in the given Ecommerce Dataframe"
      ],
      "id": "5e63573c"
    },
    {
      "cell_type": "code",
      "execution_count": null,
      "metadata": {
        "colab": {
          "base_uri": "https://localhost:8080/"
        },
        "id": "2b96d5be",
        "outputId": "3a2cd273-7367-4e7e-bff2-aca7f5f7495f"
      },
      "outputs": [
        {
          "data": {
            "text/plain": [
              "Customer_uniq_id           object\n",
              "Region                     object\n",
              "Order_Date                 object\n",
              "Expected_Delivery_Date     object\n",
              "Delivered_Date             object\n",
              "                           ...   \n",
              "discounted_price            int64\n",
              "product_rating            float64\n",
              "Brand                      object\n",
              "product_specifications     object\n",
              "description                object\n",
              "Length: 17, dtype: object"
            ]
          },
          "execution_count": 7,
          "metadata": {},
          "output_type": "execute_result"
        }
      ],
      "source": [
        "ECom_Data.dtypes"
      ],
      "id": "2b96d5be"
    },
    {
      "cell_type": "markdown",
      "metadata": {
        "id": "cc5d76f1"
      },
      "source": [
        "<font color='blue'>\n",
        "    <font size = 5>\n",
        " Once you are familiar with the data, you may decide that not all features are of use to you and you may want to delete the non-informative features (columns)</font>"
      ],
      "id": "cc5d76f1"
    },
    {
      "cell_type": "markdown",
      "metadata": {
        "id": "90db65ce"
      },
      "source": [
        "## Q 2.\tEliminating the non-informative columns.\n",
        "## a)\tDrop the columns product_specifications and description. (2 marks) \n",
        "## b)\tWhich method or function is used to permanently delete the columns mentioned in part (a)? Write the code explicitly (2 marks)\n",
        "### Note: Use the markdown feature of Python to explain your answer.\n"
      ],
      "id": "90db65ce"
    },
    {
      "cell_type": "markdown",
      "metadata": {
        "id": "e0e7e762"
      },
      "source": [
        "### Ans 2 a)"
      ],
      "id": "e0e7e762"
    },
    {
      "cell_type": "code",
      "execution_count": null,
      "metadata": {
        "colab": {
          "base_uri": "https://localhost:8080/",
          "height": 165
        },
        "id": "35ad0821",
        "outputId": "1233915a-1045-4c62-a88c-7bfbc1d6103b"
      },
      "outputs": [
        {
          "output_type": "error",
          "ename": "NameError",
          "evalue": "ignored",
          "traceback": [
            "\u001b[0;31m---------------------------------------------------------------------------\u001b[0m",
            "\u001b[0;31mNameError\u001b[0m                                 Traceback (most recent call last)",
            "\u001b[0;32m<ipython-input-1-9b4d80265f84>\u001b[0m in \u001b[0;36m<module>\u001b[0;34m()\u001b[0m\n\u001b[0;32m----> 1\u001b[0;31m \u001b[0mECom_Data\u001b[0m\u001b[0;34m.\u001b[0m\u001b[0mdrop\u001b[0m\u001b[0;34m(\u001b[0m\u001b[0;34m[\u001b[0m\u001b[0;34m'product_specifications'\u001b[0m\u001b[0;34m,\u001b[0m\u001b[0;34m'description'\u001b[0m\u001b[0;34m]\u001b[0m\u001b[0;34m,\u001b[0m\u001b[0maxis\u001b[0m\u001b[0;34m=\u001b[0m\u001b[0;36m1\u001b[0m\u001b[0;34m)\u001b[0m\u001b[0;34m\u001b[0m\u001b[0;34m\u001b[0m\u001b[0m\n\u001b[0m",
            "\u001b[0;31mNameError\u001b[0m: name 'ECom_Data' is not defined"
          ]
        }
      ],
      "source": [
        "ECom_Data.drop(['product_specifications','description'],axis=1)"
      ],
      "id": "35ad0821"
    },
    {
      "cell_type": "markdown",
      "metadata": {
        "id": "e6159f6a"
      },
      "source": [
        "### Ans 2 b)\n",
        "\n",
        "To permanently delete the columns we have set **inplace=True** which will impact the deletion in original DataFramce.By default value of inplace will be False.If we to drop the column from the Dataframe permenantly then we have to set the value True explicitly."
      ],
      "id": "e6159f6a"
    },
    {
      "cell_type": "code",
      "execution_count": null,
      "metadata": {
        "id": "47a63265"
      },
      "outputs": [],
      "source": [
        "ECom_Data.drop(['product_specifications','description'],axis=1,inplace=True)"
      ],
      "id": "47a63265"
    },
    {
      "cell_type": "markdown",
      "metadata": {
        "id": "cde421e0"
      },
      "source": [
        "<font color='blue'>\n",
        "    <font size = 5>\n",
        "        The next steps in this project involves summarization of data at various levels and visualization. Apparently, such simple steps are very useful to get an overall sense of the data.\n",
        "    </font>"
      ],
      "id": "cde421e0"
    },
    {
      "cell_type": "markdown",
      "metadata": {
        "id": "41c30ad7"
      },
      "source": [
        "## Q 3. Here we summarize the data at Brand level.\n",
        "## a) How many unique Brand are there? (1 mark)\n",
        "## b) Note that each Brand contains multiple products. Show the average product_rating within each Brand (2 marks)\n"
      ],
      "id": "41c30ad7"
    },
    {
      "cell_type": "markdown",
      "metadata": {
        "id": "beb3f83f"
      },
      "source": [
        "### Ans 3 a)"
      ],
      "id": "beb3f83f"
    },
    {
      "cell_type": "code",
      "execution_count": null,
      "metadata": {
        "colab": {
          "base_uri": "https://localhost:8080/"
        },
        "id": "41dcb79f",
        "outputId": "afae10f4-f51b-40a1-b349-c9ae0e7058cf"
      },
      "outputs": [
        {
          "data": {
            "text/plain": [
              "2580"
            ]
          },
          "execution_count": 7,
          "metadata": {},
          "output_type": "execute_result"
        }
      ],
      "source": [
        "ECom_Data[\"Brand\"].nunique()"
      ],
      "id": "41dcb79f"
    },
    {
      "cell_type": "code",
      "source": [
        "ECom_Data.columns"
      ],
      "metadata": {
        "colab": {
          "base_uri": "https://localhost:8080/"
        },
        "id": "K3WMeAtdKduR",
        "outputId": "ae03b3d6-4b01-4296-ceba-bc376cdf6f87"
      },
      "id": "K3WMeAtdKduR",
      "execution_count": null,
      "outputs": [
        {
          "output_type": "execute_result",
          "data": {
            "text/plain": [
              "Index(['Customer_uniq_id', 'Region', 'Order_Date', 'Expected_Delivery_Date',\n",
              "       'Delivered_Date', 'product_name', 'product_main_category',\n",
              "       'product_subcategory', 'product_category_filter',\n",
              "       'product_category_subfilter', 'product_unique ID', 'retail_price',\n",
              "       'discounted_price', 'product_rating', 'Brand'],\n",
              "      dtype='object')"
            ]
          },
          "metadata": {},
          "execution_count": 18
        }
      ]
    },
    {
      "cell_type": "markdown",
      "source": [],
      "metadata": {
        "id": "ScZYf7yHUYq5"
      },
      "id": "ScZYf7yHUYq5"
    },
    {
      "cell_type": "markdown",
      "metadata": {
        "id": "5083d866"
      },
      "source": [
        "### Ans 3 b)"
      ],
      "id": "5083d866"
    },
    {
      "cell_type": "code",
      "execution_count": null,
      "metadata": {
        "colab": {
          "base_uri": "https://localhost:8080/"
        },
        "id": "10018c2c",
        "outputId": "4af1e84a-84e3-442e-ed31-fc5dd8928a3b"
      },
      "outputs": [
        {
          "output_type": "execute_result",
          "data": {
            "text/plain": [
              "Brand\n",
              "1OAK            1.500000\n",
              "3A AUTOCARE     3.268293\n",
              "3D Mat          3.000000\n",
              "3kFactory       2.000000\n",
              "4D              3.600000\n",
              "                  ...   \n",
              "youniqueshop    2.000000\n",
              "zDelhi.com      5.000000\n",
              "zaidis          4.000000\n",
              "zasmina         4.500000\n",
              " Tarkan         5.000000\n",
              "Name: product_rating, Length: 2580, dtype: float64"
            ]
          },
          "metadata": {},
          "execution_count": 8
        }
      ],
      "source": [
        "ECom_Data.groupby(\"Brand\")[\"product_rating\"].mean()"
      ],
      "id": "10018c2c"
    },
    {
      "cell_type": "markdown",
      "metadata": {
        "id": "bbf162af"
      },
      "source": [
        "## Q 4. Next we study the main categories of the products.\n",
        "\n",
        "## a) Create an appropriate plot to show the count of items ordered for each product_main_category. (5 marks).\n",
        "\n",
        "### Hint: Create a bar chart titled \"Product Category type\" where product_main_category are on x-axis and counts are on y-axis.\n",
        "\n",
        "### Note: Both axis labels, i.e. the names of the product_main_category and counts must be clearly legible. \n",
        "\n",
        "## b) From the plot identify for which two product_main_category(s)  maximum and minimum orders were placed. (2 marks)\n",
        "\n",
        "## c) Write code to print out the top 5 product_main_category(s)  in descending order? (2 marks)"
      ],
      "id": "bbf162af"
    },
    {
      "cell_type": "markdown",
      "metadata": {
        "id": "36c72928"
      },
      "source": [
        "### Ans 4 a)"
      ],
      "id": "36c72928"
    },
    {
      "cell_type": "code",
      "source": [
        "plt.figure(figsize=(20,7))\n",
        "sns.countplot(data=ECom_Data,x='product_main_category');\n"
      ],
      "metadata": {
        "colab": {
          "base_uri": "https://localhost:8080/",
          "height": 350
        },
        "id": "BspFzY7EGKoO",
        "outputId": "2b35cb99-8bd8-4131-9b3e-32c11c07edf8"
      },
      "id": "BspFzY7EGKoO",
      "execution_count": null,
      "outputs": [
        {
          "output_type": "display_data",
          "data": {
            "text/plain": [
              "<Figure size 1440x504 with 1 Axes>"
            ],
            "image/png": "[encoded data removed]"
          },
          "metadata": {
            "needs_background": "light"
          }
        }
      ]
    },
    {
      "cell_type": "markdown",
      "metadata": {
        "id": "13a5b355"
      },
      "source": [
        "### Ans 4 b)"
      ],
      "id": "13a5b355"
    },
    {
      "cell_type": "code",
      "execution_count": null,
      "metadata": {
        "id": "24d3f75c",
        "colab": {
          "base_uri": "https://localhost:8080/"
        },
        "outputId": "7da2978d-6591-4d56-d6d6-055876b7e971"
      },
      "outputs": [
        {
          "output_type": "execute_result",
          "data": {
            "text/plain": [
              "Index(['Customer_uniq_id', 'Region', 'Order_Date', 'Expected_Delivery_Date',\n",
              "       'Delivered_Date', 'product_name', 'product_main_category',\n",
              "       'product_subcategory', 'product_category_filter',\n",
              "       'product_category_subfilter', 'product_unique ID', 'retail_price',\n",
              "       'discounted_price', 'product_rating', 'Brand', 'product_specifications',\n",
              "       'description', 'Revenue'],\n",
              "      dtype='object')"
            ]
          },
          "metadata": {},
          "execution_count": 59
        }
      ],
      "source": [
        "ECom_Data.columns"
      ],
      "id": "24d3f75c"
    },
    {
      "cell_type": "markdown",
      "metadata": {
        "id": "4ea60c92"
      },
      "source": [
        "### Ans 4 c)"
      ],
      "id": "4ea60c92"
    },
    {
      "cell_type": "code",
      "source": [],
      "metadata": {
        "id": "KoBULXbDusOi"
      },
      "id": "KoBULXbDusOi",
      "execution_count": null,
      "outputs": []
    },
    {
      "cell_type": "code",
      "execution_count": null,
      "metadata": {
        "id": "7f704116",
        "colab": {
          "base_uri": "https://localhost:8080/",
          "height": 617
        },
        "outputId": "7fae2773-c367-4fbb-c618-9d5c0db6abe2"
      },
      "outputs": [
        {
          "output_type": "execute_result",
          "data": {
            "text/plain": [
              "                      Customer_uniq_id Region  Order_Date  \\\n",
              "3546  e9286a103f2d3dcc752c188a666825ea  South  09-06-2021   \n",
              "3018  379bc81948d3f1f4b2701a0f7434e5b9  East   26-05-2021   \n",
              "2944  2280fc39ac93b696dc02a2ba6b128711  East   24-04-2021   \n",
              "2939  5bdcb99b86cf6613a69e0a6046e44ff6  North  24-04-2021   \n",
              "2992  08613e8b27838b997069b1fedb6e88d2  East   11-04-2021   \n",
              "\n",
              "     Expected_Delivery_Date Delivered_Date  \\\n",
              "3546             12-06-2021     12-06-2021   \n",
              "3018             29-05-2021     29-05-2021   \n",
              "2944             27-04-2021     27-04-2021   \n",
              "2939             27-04-2021     27-04-2021   \n",
              "2992             14-04-2021     14-04-2021   \n",
              "\n",
              "                                           product_name  \\\n",
              "3546                 Besto LED-B3PWGYR Smart Band Strap   \n",
              "3018  Italian Fashion wt276 Analog Watch  - For Girl...   \n",
              "2944     Wisdom LW0065 Analog Watch  - For Women, Girls   \n",
              "2939           ESIDON AKADA04 Analog Watch  - For Women   \n",
              "2992             V9 METAL STRAP Analog Watch  - For Men   \n",
              "\n",
              "        product_main_category     product_subcategory  \\\n",
              "3546  Wearable Smart Devices    Wearable Accessories    \n",
              "3018                 Watches           Wrist Watches    \n",
              "2944                 Watches           Wrist Watches    \n",
              "2939                 Watches           Wrist Watches    \n",
              "2992                 Watches           Wrist Watches    \n",
              "\n",
              "              product_category_filter  \\\n",
              "3546      Besto Wearable Accessories    \n",
              "3018   Italian Fashion Wrist Watches    \n",
              "2944            Wisdom Wrist Watches    \n",
              "2939            ESIDON Wrist Watches    \n",
              "2992                V9 Wrist Watches    \n",
              "\n",
              "                             product_category_subfilter product_unique ID  \\\n",
              "3546   Besto LED-B3PWGYR Smart Band Strap (Mullti Co...  SBWEGKHH7SY6ENHV   \n",
              "3018   Italian Fashion wt276 Analog Watch  - For Gir...  WATEHYW2NN8YBDYZ   \n",
              "2944     Wisdom LW0065 Analog Watch  - For Women, Girls  WATEHYJBSKK8HHKC   \n",
              "2939           ESIDON AKADA04 Analog Watch  - For Women  WATEHVHJSUBGKZVG   \n",
              "2992             V9 METAL STRAP Analog Watch  - For Men  WATEHZZV8HF77B94   \n",
              "\n",
              "      retail_price  discounted_price  product_rating            Brand  \\\n",
              "3546          1299               539             3.0            Besto   \n",
              "3018           999               549             4.0  Italian Fashion   \n",
              "2944           898               279             5.0           Wisdom   \n",
              "2939          1999               449             2.0           ESIDON   \n",
              "2992           649               499             3.0               V9   \n",
              "\n",
              "                                 product_specifications  \\\n",
              "3546  {\"product_specification\"=>[{\"value\"=>\"8 watch ...   \n",
              "3018  {\"product_specification\"=>[{\"key\"=>\"Type\", \"va...   \n",
              "2944  {\"product_specification\"=>[{\"key\"=>\"Diameter\",...   \n",
              "2939  {\"product_specification\"=>[{\"key\"=>\"Type\", \"va...   \n",
              "2992  {\"product_specification\"=>[{\"key\"=>\"Type\", \"va...   \n",
              "\n",
              "                                            description  \n",
              "3546  Specifications of Besto LED-B3PWGYR Smart Band...  \n",
              "3018  Specifications of Italian Fashion wt276 Analog...  \n",
              "2944  Specifications of Wisdom LW0065 Analog Watch  ...  \n",
              "2939  Specifications of ESIDON AKADA04 Analog Watch ...  \n",
              "2992  Specifications of V9 METAL STRAP Analog Watch ...  "
            ],
            "text/html": [
              "\n",
              "  <div id=\"df-d52df274-c6f4-483a-9f09-b0811795d3b6\">\n",
              "    <div class=\"colab-df-container\">\n",
              "      <div>\n",
              "<style scoped>\n",
              "    .dataframe tbody tr th:only-of-type {\n",
              "        vertical-align: middle;\n",
              "    }\n",
              "\n",
              "    .dataframe tbody tr th {\n",
              "        vertical-align: top;\n",
              "    }\n",
              "\n",
              "    .dataframe thead th {\n",
              "        text-align: right;\n",
              "    }\n",
              "</style>\n",
              "<table border=\"1\" class=\"dataframe\">\n",
              "  <thead>\n",
              "    <tr style=\"text-align: right;\">\n",
              "      <th></th>\n",
              "      <th>Customer_uniq_id</th>\n",
              "      <th>Region</th>\n",
              "      <th>Order_Date</th>\n",
              "      <th>Expected_Delivery_Date</th>\n",
              "      <th>Delivered_Date</th>\n",
              "      <th>product_name</th>\n",
              "      <th>product_main_category</th>\n",
              "      <th>product_subcategory</th>\n",
              "      <th>product_category_filter</th>\n",
              "      <th>product_category_subfilter</th>\n",
              "      <th>product_unique ID</th>\n",
              "      <th>retail_price</th>\n",
              "      <th>discounted_price</th>\n",
              "      <th>product_rating</th>\n",
              "      <th>Brand</th>\n",
              "      <th>product_specifications</th>\n",
              "      <th>description</th>\n",
              "    </tr>\n",
              "  </thead>\n",
              "  <tbody>\n",
              "    <tr>\n",
              "      <th>3546</th>\n",
              "      <td>e9286a103f2d3dcc752c188a666825ea</td>\n",
              "      <td>South</td>\n",
              "      <td>09-06-2021</td>\n",
              "      <td>12-06-2021</td>\n",
              "      <td>12-06-2021</td>\n",
              "      <td>Besto LED-B3PWGYR Smart Band Strap</td>\n",
              "      <td>Wearable Smart Devices</td>\n",
              "      <td>Wearable Accessories</td>\n",
              "      <td>Besto Wearable Accessories</td>\n",
              "      <td>Besto LED-B3PWGYR Smart Band Strap (Mullti Co...</td>\n",
              "      <td>SBWEGKHH7SY6ENHV</td>\n",
              "      <td>1299</td>\n",
              "      <td>539</td>\n",
              "      <td>3.0</td>\n",
              "      <td>Besto</td>\n",
              "      <td>{\"product_specification\"=&gt;[{\"value\"=&gt;\"8 watch ...</td>\n",
              "      <td>Specifications of Besto LED-B3PWGYR Smart Band...</td>\n",
              "    </tr>\n",
              "    <tr>\n",
              "      <th>3018</th>\n",
              "      <td>379bc81948d3f1f4b2701a0f7434e5b9</td>\n",
              "      <td>East</td>\n",
              "      <td>26-05-2021</td>\n",
              "      <td>29-05-2021</td>\n",
              "      <td>29-05-2021</td>\n",
              "      <td>Italian Fashion wt276 Analog Watch  - For Girl...</td>\n",
              "      <td>Watches</td>\n",
              "      <td>Wrist Watches</td>\n",
              "      <td>Italian Fashion Wrist Watches</td>\n",
              "      <td>Italian Fashion wt276 Analog Watch  - For Gir...</td>\n",
              "      <td>WATEHYW2NN8YBDYZ</td>\n",
              "      <td>999</td>\n",
              "      <td>549</td>\n",
              "      <td>4.0</td>\n",
              "      <td>Italian Fashion</td>\n",
              "      <td>{\"product_specification\"=&gt;[{\"key\"=&gt;\"Type\", \"va...</td>\n",
              "      <td>Specifications of Italian Fashion wt276 Analog...</td>\n",
              "    </tr>\n",
              "    <tr>\n",
              "      <th>2944</th>\n",
              "      <td>2280fc39ac93b696dc02a2ba6b128711</td>\n",
              "      <td>East</td>\n",
              "      <td>24-04-2021</td>\n",
              "      <td>27-04-2021</td>\n",
              "      <td>27-04-2021</td>\n",
              "      <td>Wisdom LW0065 Analog Watch  - For Women, Girls</td>\n",
              "      <td>Watches</td>\n",
              "      <td>Wrist Watches</td>\n",
              "      <td>Wisdom Wrist Watches</td>\n",
              "      <td>Wisdom LW0065 Analog Watch  - For Women, Girls</td>\n",
              "      <td>WATEHYJBSKK8HHKC</td>\n",
              "      <td>898</td>\n",
              "      <td>279</td>\n",
              "      <td>5.0</td>\n",
              "      <td>Wisdom</td>\n",
              "      <td>{\"product_specification\"=&gt;[{\"key\"=&gt;\"Diameter\",...</td>\n",
              "      <td>Specifications of Wisdom LW0065 Analog Watch  ...</td>\n",
              "    </tr>\n",
              "    <tr>\n",
              "      <th>2939</th>\n",
              "      <td>5bdcb99b86cf6613a69e0a6046e44ff6</td>\n",
              "      <td>North</td>\n",
              "      <td>24-04-2021</td>\n",
              "      <td>27-04-2021</td>\n",
              "      <td>27-04-2021</td>\n",
              "      <td>ESIDON AKADA04 Analog Watch  - For Women</td>\n",
              "      <td>Watches</td>\n",
              "      <td>Wrist Watches</td>\n",
              "      <td>ESIDON Wrist Watches</td>\n",
              "      <td>ESIDON AKADA04 Analog Watch  - For Women</td>\n",
              "      <td>WATEHVHJSUBGKZVG</td>\n",
              "      <td>1999</td>\n",
              "      <td>449</td>\n",
              "      <td>2.0</td>\n",
              "      <td>ESIDON</td>\n",
              "      <td>{\"product_specification\"=&gt;[{\"key\"=&gt;\"Type\", \"va...</td>\n",
              "      <td>Specifications of ESIDON AKADA04 Analog Watch ...</td>\n",
              "    </tr>\n",
              "    <tr>\n",
              "      <th>2992</th>\n",
              "      <td>08613e8b27838b997069b1fedb6e88d2</td>\n",
              "      <td>East</td>\n",
              "      <td>11-04-2021</td>\n",
              "      <td>14-04-2021</td>\n",
              "      <td>14-04-2021</td>\n",
              "      <td>V9 METAL STRAP Analog Watch  - For Men</td>\n",
              "      <td>Watches</td>\n",
              "      <td>Wrist Watches</td>\n",
              "      <td>V9 Wrist Watches</td>\n",
              "      <td>V9 METAL STRAP Analog Watch  - For Men</td>\n",
              "      <td>WATEHZZV8HF77B94</td>\n",
              "      <td>649</td>\n",
              "      <td>499</td>\n",
              "      <td>3.0</td>\n",
              "      <td>V9</td>\n",
              "      <td>{\"product_specification\"=&gt;[{\"key\"=&gt;\"Type\", \"va...</td>\n",
              "      <td>Specifications of V9 METAL STRAP Analog Watch ...</td>\n",
              "    </tr>\n",
              "  </tbody>\n",
              "</table>\n",
              "</div>\n",
              "      <button class=\"colab-df-convert\" onclick=\"convertToInteractive('df-d52df274-c6f4-483a-9f09-b0811795d3b6')\"\n",
              "              title=\"Convert this dataframe to an interactive table.\"\n",
              "              style=\"display:none;\">\n",
              "        \n",
              "  <svg xmlns=\"http://www.w3.org/2000/svg\" height=\"24px\"viewBox=\"0 0 24 24\"\n",
              "       width=\"24px\">\n",
              "    <path d=\"M0 0h24v24H0V0z\" fill=\"none\"/>\n",
              "    <path d=\"M18.56 5.44l.94 2.06.94-2.06 2.06-.94-2.06-.94-.94-2.06-.94 2.06-2.06.94zm-11 1L8.5 8.5l.94-2.06 2.06-.94-2.06-.94L8.5 2.5l-.94 2.06-2.06.94zm10 10l.94 2.06.94-2.06 2.06-.94-2.06-.94-.94-2.06-.94 2.06-2.06.94z\"/><path d=\"M17.41 7.96l-1.37-1.37c-.4-.4-.92-.59-1.43-.59-.52 0-1.04.2-1.43.59L10.3 9.45l-7.72 7.72c-.78.78-.78 2.05 0 2.83L4 21.41c.39.39.9.59 1.41.59.51 0 1.02-.2 1.41-.59l7.78-7.78 2.81-2.81c.8-.78.8-2.07 0-2.86zM5.41 20L4 18.59l7.72-7.72 1.47 1.35L5.41 20z\"/>\n",
              "  </svg>\n",
              "      </button>\n",
              "      \n",
              "  <style>\n",
              "    .colab-df-container {\n",
              "      display:flex;\n",
              "      flex-wrap:wrap;\n",
              "      gap: 12px;\n",
              "    }\n",
              "\n",
              "    .colab-df-convert {\n",
              "      background-color: #E8F0FE;\n",
              "      border: none;\n",
              "      border-radius: 50%;\n",
              "      cursor: pointer;\n",
              "      display: none;\n",
              "      fill: #1967D2;\n",
              "      height: 32px;\n",
              "      padding: 0 0 0 0;\n",
              "      width: 32px;\n",
              "    }\n",
              "\n",
              "    .colab-df-convert:hover {\n",
              "      background-color: #E2EBFA;\n",
              "      box-shadow: 0px 1px 2px rgba(60, 64, 67, 0.3), 0px 1px 3px 1px rgba(60, 64, 67, 0.15);\n",
              "      fill: #174EA6;\n",
              "    }\n",
              "\n",
              "    [theme=dark] .colab-df-convert {\n",
              "      background-color: #3B4455;\n",
              "      fill: #D2E3FC;\n",
              "    }\n",
              "\n",
              "    [theme=dark] .colab-df-convert:hover {\n",
              "      background-color: #434B5C;\n",
              "      box-shadow: 0px 1px 3px 1px rgba(0, 0, 0, 0.15);\n",
              "      filter: drop-shadow(0px 1px 2px rgba(0, 0, 0, 0.3));\n",
              "      fill: #FFFFFF;\n",
              "    }\n",
              "  </style>\n",
              "\n",
              "      <script>\n",
              "        const buttonEl =\n",
              "          document.querySelector('#df-d52df274-c6f4-483a-9f09-b0811795d3b6 button.colab-df-convert');\n",
              "        buttonEl.style.display =\n",
              "          google.colab.kernel.accessAllowed ? 'block' : 'none';\n",
              "\n",
              "        async function convertToInteractive(key) {\n",
              "          const element = document.querySelector('#df-d52df274-c6f4-483a-9f09-b0811795d3b6');\n",
              "          const dataTable =\n",
              "            await google.colab.kernel.invokeFunction('convertToInteractive',\n",
              "                                                     [key], {});\n",
              "          if (!dataTable) return;\n",
              "\n",
              "          const docLinkHtml = 'Like what you see? Visit the ' +\n",
              "            '<a target=\"_blank\" href=https://colab.research.google.com/notebooks/data_table.ipynb>data table notebook</a>'\n",
              "            + ' to learn more about interactive tables.';\n",
              "          element.innerHTML = '';\n",
              "          dataTable['output_type'] = 'display_data';\n",
              "          await google.colab.output.renderOutput(dataTable, element);\n",
              "          const docLink = document.createElement('div');\n",
              "          docLink.innerHTML = docLinkHtml;\n",
              "          element.appendChild(docLink);\n",
              "        }\n",
              "      </script>\n",
              "    </div>\n",
              "  </div>\n",
              "  "
            ]
          },
          "metadata": {},
          "execution_count": 3
        }
      ],
      "source": [
        "ECom_Data.sort_values([\"product_main_category\"],ascending=False).head(5)"
      ],
      "id": "7f704116"
    },
    {
      "cell_type": "markdown",
      "metadata": {
        "id": "a9f81605"
      },
      "source": [
        "<font color='blue'>\n",
        "    <font size = 5>\n",
        "    In E-commerce, both the retailers (here brands) and the company have to make profit to sustain in the business. \n",
        "    The E-Commerce company has the following rule for computing their own revenue: </font> \n",
        "    \n",
        "####     The company charges  \n",
        "####  (i) 25% on the orders having final price (discounted price) greater than 600\n",
        "\n",
        "#### (ii) 15% on the orders having final price (discounted price) greater than 350 but less than or equal to 600\n",
        "\n",
        "#### (iii) 10% on the orders having final price (discounted price) greater than 100 but less than or equal to 350\n",
        "\n",
        "#### (iv) Otherwise, 5% on the final price (discounted price)    </font> "
      ],
      "id": "a9f81605"
    },
    {
      "cell_type": "markdown",
      "metadata": {
        "id": "0f255fea"
      },
      "source": [
        "## Q 5. Find the net revenue generated by the E-Commerce company over all orders placed. (6 marks)"
      ],
      "id": "0f255fea"
    },
    {
      "cell_type": "markdown",
      "metadata": {
        "id": "1f6b8028"
      },
      "source": [
        "### Ans 5\n",
        "\n",
        "The Net revenue generated by the E-Commerce company for all the orders is **Rs.2242221.75**\n"
      ],
      "id": "1f6b8028"
    },
    {
      "cell_type": "code",
      "execution_count": null,
      "metadata": {
        "id": "c62d888f",
        "colab": {
          "base_uri": "https://localhost:8080/",
          "height": 217
        },
        "outputId": "e01e1f6b-f7d6-44e9-f906-468f4078fb00"
      },
      "outputs": [
        {
          "output_type": "error",
          "ename": "NameError",
          "evalue": "ignored",
          "traceback": [
            "\u001b[0;31m---------------------------------------------------------------------------\u001b[0m",
            "\u001b[0;31mNameError\u001b[0m                                 Traceback (most recent call last)",
            "\u001b[0;32m<ipython-input-1-36d5d2ed6616>\u001b[0m in \u001b[0;36m<module>\u001b[0;34m()\u001b[0m\n\u001b[1;32m      9\u001b[0m         \u001b[0;32mreturn\u001b[0m \u001b[0;34m(\u001b[0m\u001b[0;36m0.05\u001b[0m\u001b[0;34m*\u001b[0m\u001b[0mdiscounted_price\u001b[0m\u001b[0;34m)\u001b[0m\u001b[0;34m\u001b[0m\u001b[0;34m\u001b[0m\u001b[0m\n\u001b[1;32m     10\u001b[0m \u001b[0;34m\u001b[0m\u001b[0m\n\u001b[0;32m---> 11\u001b[0;31m \u001b[0mECom_Data\u001b[0m\u001b[0;34m[\u001b[0m\u001b[0;34m\"Revenue\"\u001b[0m\u001b[0;34m]\u001b[0m \u001b[0;34m=\u001b[0m \u001b[0mECom_Data\u001b[0m\u001b[0;34m[\u001b[0m\u001b[0;34m'discounted_price'\u001b[0m\u001b[0;34m]\u001b[0m\u001b[0;34m.\u001b[0m\u001b[0mapply\u001b[0m\u001b[0;34m(\u001b[0m\u001b[0mrevenue\u001b[0m\u001b[0;34m)\u001b[0m\u001b[0;34m\u001b[0m\u001b[0;34m\u001b[0m\u001b[0m\n\u001b[0m\u001b[1;32m     12\u001b[0m \u001b[0mECom_Data\u001b[0m\u001b[0;34m\u001b[0m\u001b[0;34m\u001b[0m\u001b[0m\n",
            "\u001b[0;31mNameError\u001b[0m: name 'ECom_Data' is not defined"
          ]
        }
      ],
      "source": [
        "def revenue(discounted_price ):\n",
        "    if discounted_price > 600:\n",
        "        return (0.25*discounted_price)\n",
        "    elif discounted_price >350 and discounted_price <= 600:\n",
        "        return (0.15*discounted_price)\n",
        "    elif discounted_price >100 and discounted_price <= 350:\n",
        "        return (0.10*discounted_price)\n",
        "    else:\n",
        "        return (0.05*discounted_price)\n",
        "      \n",
        "ECom_Data[\"Revenue\"] = ECom_Data['discounted_price'].apply(revenue)\n",
        "ECom_Data"
      ],
      "id": "c62d888f"
    },
    {
      "cell_type": "code",
      "source": [
        "ECom_Data['Revenue'].sum()"
      ],
      "metadata": {
        "id": "8aeG6JDnxRDq"
      },
      "id": "8aeG6JDnxRDq",
      "execution_count": null,
      "outputs": []
    },
    {
      "cell_type": "markdown",
      "metadata": {
        "id": "9161ca8c"
      },
      "source": [
        "<font color='blue'>\n",
        "    <font size = 5>\n",
        "    Now you need to find the revenue for each retailer (Brand)\n",
        "    </font>"
      ],
      "id": "9161ca8c"
    },
    {
      "cell_type": "markdown",
      "metadata": {
        "id": "73dd23c3"
      },
      "source": [
        "## Q6.Calculate the Net BrandRevenue for each Brand and list the top 14 Brand having maximum revenue in descending order (5 marks)\n",
        "#### Hint: Net BrandRevenue is BrandRevenue which is generated after all the deductions. Also, BrandRevenue is different from the E-Commerce company's net revenue."
      ],
      "id": "73dd23c3"
    },
    {
      "cell_type": "markdown",
      "metadata": {
        "id": "3514fa79"
      },
      "source": [
        "### Ans 6"
      ],
      "id": "3514fa79"
    },
    {
      "cell_type": "code",
      "execution_count": null,
      "metadata": {
        "id": "437c69b5",
        "colab": {
          "base_uri": "https://localhost:8080/"
        },
        "outputId": "ba53dc75-b28f-4804-aa4c-c5fdcab6074e"
      },
      "outputs": [
        {
          "output_type": "execute_result",
          "data": {
            "text/plain": [
              "Brand            \n",
              "1OAK         6473    168.75\n",
              "             6476     89.85\n",
              "3A AUTOCARE  358     687.50\n",
              "             498     687.50\n",
              "             507     687.50\n",
              "                      ...  \n",
              "4D           4059    624.75\n",
              "             4038    349.75\n",
              "             4033    337.50\n",
              "             4035    337.50\n",
              "             4036    337.50\n",
              "Name: Revenue, Length: 14, dtype: float64"
            ]
          },
          "metadata": {},
          "execution_count": 31
        }
      ],
      "source": [
        "ECom_Data.groupby('Brand')['Revenue'].nlargest().head(14)\n"
      ],
      "id": "437c69b5"
    },
    {
      "cell_type": "markdown",
      "metadata": {
        "id": "2a2bbd83"
      },
      "source": [
        "<font color='blue'>\n",
        "    <font size = 5>\n",
        "Let us now investigate multiple features for each product to determine any pattern.\n",
        "</font>"
      ],
      "id": "2a2bbd83"
    },
    {
      "cell_type": "markdown",
      "metadata": {
        "id": "1aa1834b"
      },
      "source": [
        "## Q 7. Compare prices of the products.\n",
        "\n",
        "## a)\tDraw boxplots of retail_price & discounted_price. (2 marks)\n",
        "\n",
        "## b)\t Are there any outliers? (Yes/No) (1mark)\n",
        "\n",
        "## c)\tCreate a scatterplot of retail_price (x-axis) and discounted_price (y-axis) (2 marks)\n"
      ],
      "id": "1aa1834b"
    },
    {
      "cell_type": "markdown",
      "metadata": {
        "id": "d5aae861"
      },
      "source": [
        "### Ans 7 a)"
      ],
      "id": "d5aae861"
    },
    {
      "cell_type": "code",
      "execution_count": null,
      "metadata": {
        "id": "510fd4d0",
        "colab": {
          "base_uri": "https://localhost:8080/",
          "height": 183
        },
        "outputId": "35ff1b42-aafb-441c-e78a-b30524c31070"
      },
      "outputs": [
        {
          "output_type": "error",
          "ename": "NameError",
          "evalue": "ignored",
          "traceback": [
            "\u001b[0;31m---------------------------------------------------------------------------\u001b[0m",
            "\u001b[0;31mNameError\u001b[0m                                 Traceback (most recent call last)",
            "\u001b[0;32m<ipython-input-2-7a7afbe366f4>\u001b[0m in \u001b[0;36m<module>\u001b[0;34m()\u001b[0m\n\u001b[0;32m----> 1\u001b[0;31m \u001b[0mplt\u001b[0m\u001b[0;34m.\u001b[0m\u001b[0mylim\u001b[0m\u001b[0;34m(\u001b[0m\u001b[0;36m0\u001b[0m\u001b[0;34m,\u001b[0m \u001b[0;36m5000\u001b[0m\u001b[0;34m)\u001b[0m\u001b[0;34m\u001b[0m\u001b[0;34m\u001b[0m\u001b[0m\n\u001b[0m\u001b[1;32m      2\u001b[0m \u001b[0mECom_Data\u001b[0m\u001b[0;34m.\u001b[0m\u001b[0mboxplot\u001b[0m\u001b[0;34m(\u001b[0m\u001b[0mcolumn\u001b[0m\u001b[0;34m=\u001b[0m\u001b[0;34m[\u001b[0m\u001b[0;34m'retail_price'\u001b[0m\u001b[0;34m,\u001b[0m \u001b[0;34m'discounted_price'\u001b[0m\u001b[0;34m]\u001b[0m\u001b[0;34m)\u001b[0m  \u001b[0;34m;\u001b[0m\u001b[0;34m\u001b[0m\u001b[0;34m\u001b[0m\u001b[0m\n",
            "\u001b[0;31mNameError\u001b[0m: name 'plt' is not defined"
          ]
        }
      ],
      "source": [
        "plt.ylim(0, 5000)\n",
        "ECom_Data.boxplot(column=['retail_price', 'discounted_price'])  ;\n"
      ],
      "id": "510fd4d0"
    },
    {
      "cell_type": "markdown",
      "metadata": {
        "id": "78b92e7c"
      },
      "source": [
        "### Ans 7 b)\n",
        "yes"
      ],
      "id": "78b92e7c"
    },
    {
      "cell_type": "markdown",
      "metadata": {
        "id": "0389c9b8"
      },
      "source": [
        "### Ans 7 c)"
      ],
      "id": "0389c9b8"
    },
    {
      "cell_type": "code",
      "execution_count": null,
      "metadata": {
        "id": "d8c44be9",
        "colab": {
          "base_uri": "https://localhost:8080/",
          "height": 165
        },
        "outputId": "e69eac54-6b4c-417b-8180-bee975b5d4c6"
      },
      "outputs": [
        {
          "output_type": "error",
          "ename": "NameError",
          "evalue": "ignored",
          "traceback": [
            "\u001b[0;31m---------------------------------------------------------------------------\u001b[0m",
            "\u001b[0;31mNameError\u001b[0m                                 Traceback (most recent call last)",
            "\u001b[0;32m<ipython-input-3-111c46508a4c>\u001b[0m in \u001b[0;36m<module>\u001b[0;34m()\u001b[0m\n\u001b[0;32m----> 1\u001b[0;31m \u001b[0msns\u001b[0m\u001b[0;34m.\u001b[0m\u001b[0mscatterplot\u001b[0m\u001b[0;34m(\u001b[0m\u001b[0mdata\u001b[0m\u001b[0;34m=\u001b[0m\u001b[0mECom_Data\u001b[0m\u001b[0;34m,\u001b[0m \u001b[0mx\u001b[0m\u001b[0;34m=\u001b[0m\u001b[0;34m\"retail_price\"\u001b[0m\u001b[0;34m,\u001b[0m \u001b[0my\u001b[0m\u001b[0;34m=\u001b[0m\u001b[0;34m\"discounted_price\"\u001b[0m\u001b[0;34m,\u001b[0m\u001b[0msizes\u001b[0m\u001b[0;34m=\u001b[0m\u001b[0;34m(\u001b[0m\u001b[0;36m30\u001b[0m\u001b[0;34m,\u001b[0m \u001b[0;36m200\u001b[0m\u001b[0;34m)\u001b[0m\u001b[0;34m)\u001b[0m\u001b[0;34m;\u001b[0m\u001b[0;34m\u001b[0m\u001b[0;34m\u001b[0m\u001b[0m\n\u001b[0m",
            "\u001b[0;31mNameError\u001b[0m: name 'sns' is not defined"
          ]
        }
      ],
      "source": [
        "sns.scatterplot(data=ECom_Data, x=\"retail_price\", y=\"discounted_price\",sizes=(30, 200));"
      ],
      "id": "d8c44be9"
    },
    {
      "cell_type": "markdown",
      "metadata": {
        "id": "3bc47f55"
      },
      "source": [
        "<font color='blue'>\n",
        "    <font size = 5>\n",
        "    The next steps will enable to study brand-level information.\n",
        "    </font>"
      ],
      "id": "3bc47f55"
    },
    {
      "cell_type": "markdown",
      "metadata": {
        "id": "b9bd00f7"
      },
      "source": [
        "## Q 8. Create a new dataframe to include the Brand specific information as stated:\n",
        "## i.\ttotal number of orders placed per Brand\n",
        "## ii.\ttotal retail_price per Brand\n",
        "## iii.\ttotal discounted_price per Brand, and \n",
        "## iv.\ttotal net BrandRevenue generated per Brand. \n",
        "\n",
        "## Also, draw a pairplot using these four features. (3 marks)\n"
      ],
      "id": "b9bd00f7"
    },
    {
      "cell_type": "markdown",
      "metadata": {
        "id": "8f83cea9"
      },
      "source": [
        "### Ans 8"
      ],
      "id": "8f83cea9"
    },
    {
      "cell_type": "code",
      "execution_count": null,
      "metadata": {
        "id": "ae749847"
      },
      "outputs": [],
      "source": [
        "new_df=pd.DataFrame()\n",
        "#i)\n",
        "new_df['Total_Order']=ECom_Data.groupby('Brand')['product_name'].count()\n",
        "#ii)\n",
        "new_df['Total_retailprice']=ECom_Data.groupby('Brand')['retail_price'].sum()\n",
        "#iii)\n",
        "new_df['Total_discounted_price']=ECom_Data.groupby('Brand')['discounted_price'].sum()\n",
        "#iv)\n",
        "new_df['Total_Brandrevenue']=ECom_Data.groupby('Brand')['Revenue'].sum()"
      ],
      "id": "ae749847"
    },
    {
      "cell_type": "code",
      "source": [
        "new_df\n",
        "\n"
      ],
      "metadata": {
        "colab": {
          "base_uri": "https://localhost:8080/",
          "height": 455
        },
        "id": "nvo2wqieim3d",
        "outputId": "fc73fb05-28ee-425c-a1af-5a7bebaa4717"
      },
      "id": "nvo2wqieim3d",
      "execution_count": null,
      "outputs": [
        {
          "output_type": "execute_result",
          "data": {
            "text/plain": [
              "              Total_Order  Total_retailprice  Total_discounted_price  \\\n",
              "Brand                                                                  \n",
              "1OAK                    2               1698                    1274   \n",
              "3A AUTOCARE            41             107059                   74134   \n",
              "3D Mat                  1               7250                    6999   \n",
              "3kFactory               1                399                     174   \n",
              "4D                      5              17500                    7948   \n",
              "...                   ...                ...                     ...   \n",
              "youniqueshop            1                810                     640   \n",
              "zDelhi.com              1               4499                    3999   \n",
              "zaidis                  1                150                     129   \n",
              "zasmina                 2               1400                     639   \n",
              " Tarkan                 1               1999                     349   \n",
              "\n",
              "              Total_Brandrevenue  \n",
              "Brand                             \n",
              "1OAK                      258.60  \n",
              "3A AUTOCARE             18486.10  \n",
              "3D Mat                   1749.75  \n",
              "3kFactory                  17.40  \n",
              "4D                       1987.00  \n",
              "...                          ...  \n",
              "youniqueshop              160.00  \n",
              "zDelhi.com                999.75  \n",
              "zaidis                     12.90  \n",
              "zasmina                    63.90  \n",
              " Tarkan                    34.90  \n",
              "\n",
              "[2580 rows x 4 columns]"
            ],
            "text/html": [
              "\n",
              "  <div id=\"df-26fa6e94-9646-423a-8bd7-ad95b8753c36\">\n",
              "    <div class=\"colab-df-container\">\n",
              "      <div>\n",
              "<style scoped>\n",
              "    .dataframe tbody tr th:only-of-type {\n",
              "        vertical-align: middle;\n",
              "    }\n",
              "\n",
              "    .dataframe tbody tr th {\n",
              "        vertical-align: top;\n",
              "    }\n",
              "\n",
              "    .dataframe thead th {\n",
              "        text-align: right;\n",
              "    }\n",
              "</style>\n",
              "<table border=\"1\" class=\"dataframe\">\n",
              "  <thead>\n",
              "    <tr style=\"text-align: right;\">\n",
              "      <th></th>\n",
              "      <th>Total_Order</th>\n",
              "      <th>Total_retailprice</th>\n",
              "      <th>Total_discounted_price</th>\n",
              "      <th>Total_Brandrevenue</th>\n",
              "    </tr>\n",
              "    <tr>\n",
              "      <th>Brand</th>\n",
              "      <th></th>\n",
              "      <th></th>\n",
              "      <th></th>\n",
              "      <th></th>\n",
              "    </tr>\n",
              "  </thead>\n",
              "  <tbody>\n",
              "    <tr>\n",
              "      <th>1OAK</th>\n",
              "      <td>2</td>\n",
              "      <td>1698</td>\n",
              "      <td>1274</td>\n",
              "      <td>258.60</td>\n",
              "    </tr>\n",
              "    <tr>\n",
              "      <th>3A AUTOCARE</th>\n",
              "      <td>41</td>\n",
              "      <td>107059</td>\n",
              "      <td>74134</td>\n",
              "      <td>18486.10</td>\n",
              "    </tr>\n",
              "    <tr>\n",
              "      <th>3D Mat</th>\n",
              "      <td>1</td>\n",
              "      <td>7250</td>\n",
              "      <td>6999</td>\n",
              "      <td>1749.75</td>\n",
              "    </tr>\n",
              "    <tr>\n",
              "      <th>3kFactory</th>\n",
              "      <td>1</td>\n",
              "      <td>399</td>\n",
              "      <td>174</td>\n",
              "      <td>17.40</td>\n",
              "    </tr>\n",
              "    <tr>\n",
              "      <th>4D</th>\n",
              "      <td>5</td>\n",
              "      <td>17500</td>\n",
              "      <td>7948</td>\n",
              "      <td>1987.00</td>\n",
              "    </tr>\n",
              "    <tr>\n",
              "      <th>...</th>\n",
              "      <td>...</td>\n",
              "      <td>...</td>\n",
              "      <td>...</td>\n",
              "      <td>...</td>\n",
              "    </tr>\n",
              "    <tr>\n",
              "      <th>youniqueshop</th>\n",
              "      <td>1</td>\n",
              "      <td>810</td>\n",
              "      <td>640</td>\n",
              "      <td>160.00</td>\n",
              "    </tr>\n",
              "    <tr>\n",
              "      <th>zDelhi.com</th>\n",
              "      <td>1</td>\n",
              "      <td>4499</td>\n",
              "      <td>3999</td>\n",
              "      <td>999.75</td>\n",
              "    </tr>\n",
              "    <tr>\n",
              "      <th>zaidis</th>\n",
              "      <td>1</td>\n",
              "      <td>150</td>\n",
              "      <td>129</td>\n",
              "      <td>12.90</td>\n",
              "    </tr>\n",
              "    <tr>\n",
              "      <th>zasmina</th>\n",
              "      <td>2</td>\n",
              "      <td>1400</td>\n",
              "      <td>639</td>\n",
              "      <td>63.90</td>\n",
              "    </tr>\n",
              "    <tr>\n",
              "      <th>Tarkan</th>\n",
              "      <td>1</td>\n",
              "      <td>1999</td>\n",
              "      <td>349</td>\n",
              "      <td>34.90</td>\n",
              "    </tr>\n",
              "  </tbody>\n",
              "</table>\n",
              "<p>2580 rows × 4 columns</p>\n",
              "</div>\n",
              "      <button class=\"colab-df-convert\" onclick=\"convertToInteractive('df-26fa6e94-9646-423a-8bd7-ad95b8753c36')\"\n",
              "              title=\"Convert this dataframe to an interactive table.\"\n",
              "              style=\"display:none;\">\n",
              "        \n",
              "  <svg xmlns=\"http://www.w3.org/2000/svg\" height=\"24px\"viewBox=\"0 0 24 24\"\n",
              "       width=\"24px\">\n",
              "    <path d=\"M0 0h24v24H0V0z\" fill=\"none\"/>\n",
              "    <path d=\"M18.56 5.44l.94 2.06.94-2.06 2.06-.94-2.06-.94-.94-2.06-.94 2.06-2.06.94zm-11 1L8.5 8.5l.94-2.06 2.06-.94-2.06-.94L8.5 2.5l-.94 2.06-2.06.94zm10 10l.94 2.06.94-2.06 2.06-.94-2.06-.94-.94-2.06-.94 2.06-2.06.94z\"/><path d=\"M17.41 7.96l-1.37-1.37c-.4-.4-.92-.59-1.43-.59-.52 0-1.04.2-1.43.59L10.3 9.45l-7.72 7.72c-.78.78-.78 2.05 0 2.83L4 21.41c.39.39.9.59 1.41.59.51 0 1.02-.2 1.41-.59l7.78-7.78 2.81-2.81c.8-.78.8-2.07 0-2.86zM5.41 20L4 18.59l7.72-7.72 1.47 1.35L5.41 20z\"/>\n",
              "  </svg>\n",
              "      </button>\n",
              "      \n",
              "  <style>\n",
              "    .colab-df-container {\n",
              "      display:flex;\n",
              "      flex-wrap:wrap;\n",
              "      gap: 12px;\n",
              "    }\n",
              "\n",
              "    .colab-df-convert {\n",
              "      background-color: #E8F0FE;\n",
              "      border: none;\n",
              "      border-radius: 50%;\n",
              "      cursor: pointer;\n",
              "      display: none;\n",
              "      fill: #1967D2;\n",
              "      height: 32px;\n",
              "      padding: 0 0 0 0;\n",
              "      width: 32px;\n",
              "    }\n",
              "\n",
              "    .colab-df-convert:hover {\n",
              "      background-color: #E2EBFA;\n",
              "      box-shadow: 0px 1px 2px rgba(60, 64, 67, 0.3), 0px 1px 3px 1px rgba(60, 64, 67, 0.15);\n",
              "      fill: #174EA6;\n",
              "    }\n",
              "\n",
              "    [theme=dark] .colab-df-convert {\n",
              "      background-color: #3B4455;\n",
              "      fill: #D2E3FC;\n",
              "    }\n",
              "\n",
              "    [theme=dark] .colab-df-convert:hover {\n",
              "      background-color: #434B5C;\n",
              "      box-shadow: 0px 1px 3px 1px rgba(0, 0, 0, 0.15);\n",
              "      filter: drop-shadow(0px 1px 2px rgba(0, 0, 0, 0.3));\n",
              "      fill: #FFFFFF;\n",
              "    }\n",
              "  </style>\n",
              "\n",
              "      <script>\n",
              "        const buttonEl =\n",
              "          document.querySelector('#df-26fa6e94-9646-423a-8bd7-ad95b8753c36 button.colab-df-convert');\n",
              "        buttonEl.style.display =\n",
              "          google.colab.kernel.accessAllowed ? 'block' : 'none';\n",
              "\n",
              "        async function convertToInteractive(key) {\n",
              "          const element = document.querySelector('#df-26fa6e94-9646-423a-8bd7-ad95b8753c36');\n",
              "          const dataTable =\n",
              "            await google.colab.kernel.invokeFunction('convertToInteractive',\n",
              "                                                     [key], {});\n",
              "          if (!dataTable) return;\n",
              "\n",
              "          const docLinkHtml = 'Like what you see? Visit the ' +\n",
              "            '<a target=\"_blank\" href=https://colab.research.google.com/notebooks/data_table.ipynb>data table notebook</a>'\n",
              "            + ' to learn more about interactive tables.';\n",
              "          element.innerHTML = '';\n",
              "          dataTable['output_type'] = 'display_data';\n",
              "          await google.colab.output.renderOutput(dataTable, element);\n",
              "          const docLink = document.createElement('div');\n",
              "          docLink.innerHTML = docLinkHtml;\n",
              "          element.appendChild(docLink);\n",
              "        }\n",
              "      </script>\n",
              "    </div>\n",
              "  </div>\n",
              "  "
            ]
          },
          "metadata": {},
          "execution_count": 49
        }
      ]
    },
    {
      "cell_type": "code",
      "source": [
        "sns.pairplot(new_df);"
      ],
      "metadata": {
        "colab": {
          "base_uri": "https://localhost:8080/",
          "height": 726
        },
        "id": "0-NvN5G_lgzk",
        "outputId": "f43b01b8-f564-4f2d-d923-bba9a77e6976"
      },
      "id": "0-NvN5G_lgzk",
      "execution_count": null,
      "outputs": [
        {
          "output_type": "display_data",
          "data": {
            "text/plain": [
              "<Figure size 720x720 with 20 Axes>"
            ],
            "image/png": "[encoded data removed]"
          },
          "metadata": {
            "needs_background": "light"
          }
        }
      ]
    },
    {
      "cell_type": "markdown",
      "metadata": {
        "id": "ecec83f4"
      },
      "source": [
        "<font color='blue'>\n",
        "    <font size = 5>\n",
        "    The E-Commerce company operate in multiple regions. It is important to understand its performance in each region.\n",
        "    </font>"
      ],
      "id": "ecec83f4"
    },
    {
      "cell_type": "markdown",
      "metadata": {
        "id": "dd09b8aa"
      },
      "source": [
        "## Q 9.Compare performance regionwise\n",
        "\n",
        "## a)\tDraw a lineplot for the monthly net Revenue of E-Commerce Company for each region separately.  (4 marks) \n",
        "\n",
        "## b)\tIdentify the best and the worst performing months for each region. (2 marks)\n",
        "\n",
        "#### Note: Only those days with actual orders(Order_Date) placed are present in the dataset. Assuming there were no orders on other days"
      ],
      "id": "dd09b8aa"
    },
    {
      "cell_type": "markdown",
      "metadata": {
        "id": "e6d64aea"
      },
      "source": [
        "### Ans 9 a)"
      ],
      "id": "e6d64aea"
    },
    {
      "cell_type": "code",
      "execution_count": null,
      "metadata": {
        "id": "d9a4f534"
      },
      "outputs": [],
      "source": [
        "\n",
        "ECom_Data['Order_Date']=ECom_Data['Order_Date'].astype('datetime64[ns]')\n",
        "ECom_Data['month']=ECom_Data['Order_Date'].dt.month\n"
      ],
      "id": "d9a4f534"
    },
    {
      "cell_type": "code",
      "source": [
        "plt.figure(figsize=(20,7))\n",
        "sns.lineplot(x='month',y='Revenue',hue='Region',data=ECom_Data);\n",
        "\n",
        "df_counts = df.groupby('Category', as_index=False).size()\n",
        "sns.barplot(data=df_counts, x='Category', y='size', palette='turbo', ax=ax4)\n",
        "ax4.set_title('Barplot: Using groupby')\n"
      ],
      "metadata": {
        "colab": {
          "base_uri": "https://localhost:8080/",
          "height": 358
        },
        "id": "qile9GduzZgO",
        "outputId": "784d64be-06b5-4314-faa0-56851861c754"
      },
      "id": "qile9GduzZgO",
      "execution_count": null,
      "outputs": [
        {
          "output_type": "display_data",
          "data": {
            "text/plain": [
              "<Figure size 1440x504 with 1 Axes>"
            ],
            "image/png": "[encoded data removed]"
          },
          "metadata": {
            "needs_background": "light"
          }
        }
      ]
    },
    {
      "cell_type": "markdown",
      "metadata": {
        "id": "dac59dc4"
      },
      "source": [
        "### Ans 9 b)"
      ],
      "id": "dac59dc4"
    },
    {
      "cell_type": "code",
      "execution_count": null,
      "metadata": {
        "id": "9f569635"
      },
      "outputs": [],
      "source": [],
      "id": "9f569635"
    },
    {
      "cell_type": "markdown",
      "metadata": {
        "id": "dcb8d39f"
      },
      "source": [
        "<font color='blue'>\n",
        "    <font size = 5>\n",
        "    Congratulations! You have learnt how to approach a complex data and extract information out of it. \n",
        "    </font>"
      ],
      "id": "dcb8d39f"
    }
  ],
  "metadata": {
    "accelerator": "GPU",
    "colab": {
      "provenance": []
    },
    "gpuClass": "standard",
    "kernelspec": {
      "display_name": "Python 3",
      "language": "python",
      "name": "python3"
    },
    "language_info": {
      "codemirror_mode": {
        "name": "ipython",
        "version": 3
      },
      "file_extension": ".py",
      "mimetype": "text/x-python",
      "name": "python",
      "nbconvert_exporter": "python",
      "pygments_lexer": "ipython3",
      "version": "3.8.8"
    }
  },
  "nbformat": 4,
  "nbformat_minor": 5
}